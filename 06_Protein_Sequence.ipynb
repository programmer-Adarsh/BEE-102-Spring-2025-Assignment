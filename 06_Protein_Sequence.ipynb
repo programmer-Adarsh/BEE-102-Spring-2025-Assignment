{
 "cells": [
  {
   "cell_type": "code",
   "execution_count": 2,
   "id": "7a14c630-96f5-4ea6-9e41-fcebc631de13",
   "metadata": {},
   "outputs": [
    {
     "name": "stdout",
     "output_type": "stream",
     "text": [
      "Protein sequence:\n",
      "XXXXXXXXXXXXXXXXXXXXXXXXXXXXXXXXXXXXXXXXKKNPPQIYPWMKRVHLRQRTSYTRYQTLELEKEFHFNRYLTRRRRIEIAHALSLTERQIKIWFQNRRMKWKKEHKRRNFSKQASEILNEYFYSHLSNPYPSEEAKEELARKCGITVSQVSNWFGNKRIRYKKNI\n"
     ]
    }
   ],
   "source": [
    "# Step 1: Define mapping from 3-letter to 1-letter amino acid codes\n",
    "three_to_one = {\n",
    "    'ALA': 'A', 'ARG': 'R', 'ASN': 'N', 'ASP': 'D',\n",
    "    'CYS': 'C', 'GLN': 'Q', 'GLU': 'E', 'GLY': 'G',\n",
    "    'HIS': 'H', 'ILE': 'I', 'LEU': 'L', 'LYS': 'K',\n",
    "    'MET': 'M', 'PHE': 'F', 'PRO': 'P', 'SER': 'S',\n",
    "    'THR': 'T', 'TRP': 'W', 'TYR': 'Y', 'VAL': 'V'\n",
    "}\n",
    "\n",
    "# Step 2: Open and read the PDB file\n",
    "sequence = \"\"\n",
    "seen_residues = set()\n",
    "\n",
    "with open(\"C:/Users/ADARSH VERMA/Downloads/2r5z.pdb\", \"r\") as pdb_file:\n",
    "    for line in pdb_file:\n",
    "        if line.startswith(\"ATOM\"):\n",
    "            res_name = line[17:20].strip()  # Residue name (e.g., ALA)\n",
    "            res_num = line[22:26].strip()   # Residue number (e.g., 45)\n",
    "            chain_id = line[21].strip()     # Chain ID (e.g., A)\n",
    "\n",
    "            key = (chain_id, res_num)  # Unique key: chain + residue number\n",
    "\n",
    "            if key not in seen_residues:\n",
    "                seen_residues.add(key)\n",
    "                aa = three_to_one.get(res_name, 'X')  # 'X' for unknowns\n",
    "                sequence += aa\n",
    "\n",
    "# Step 3: Print the final sequence\n",
    "print(\"Protein sequence:\")\n",
    "print(sequence)\n"
   ]
  },
  {
   "cell_type": "code",
   "execution_count": null,
   "id": "1f7c3ac3-e81c-45f4-a824-7aa6d76a02dc",
   "metadata": {},
   "outputs": [],
   "source": []
  }
 ],
 "metadata": {
  "kernelspec": {
   "display_name": "Python 3 (ipykernel)",
   "language": "python",
   "name": "python3"
  },
  "language_info": {
   "codemirror_mode": {
    "name": "ipython",
    "version": 3
   },
   "file_extension": ".py",
   "mimetype": "text/x-python",
   "name": "python",
   "nbconvert_exporter": "python",
   "pygments_lexer": "ipython3",
   "version": "3.12.7"
  }
 },
 "nbformat": 4,
 "nbformat_minor": 5
}
