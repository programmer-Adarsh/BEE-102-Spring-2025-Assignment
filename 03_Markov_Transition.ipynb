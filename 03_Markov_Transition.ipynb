{
 "cells": [
  {
   "cell_type": "code",
   "execution_count": 2,
   "id": "424b5c78-0267-492e-a05e-a71aec0e3b5d",
   "metadata": {},
   "outputs": [
    {
     "name": "stdout",
     "output_type": "stream",
     "text": [
      "Transition Matrix (Markov Model):\n",
      "P(A | A) = 0.000\tP(C | A) = 0.750\tP(G | A) = 0.250\tP(T | A) = 0.000\t\n",
      "P(A | C) = 0.000\tP(C | C) = 0.000\tP(G | C) = 1.000\tP(T | C) = 0.000\t\n",
      "P(A | G) = 0.167\tP(C | G) = 0.167\tP(G | G) = 0.000\tP(T | G) = 0.667\t\n",
      "P(A | T) = 0.600\tP(C | T) = 0.000\tP(G | T) = 0.200\tP(T | T) = 0.200\t\n"
     ]
    }
   ],
   "source": [
    "# Step 1: Define possible nucleotides\n",
    "nucleotides = ['A', 'C', 'G', 'T']\n",
    "\n",
    "# Step 2: Initialize a transition matrix as a dictionary of dictionaries\n",
    "transition_matrix = {nuc1: {nuc2: 0 for nuc2 in nucleotides} for nuc1 in nucleotides}\n",
    "\n",
    "# Step 3: Input DNA sequence\n",
    "sequence = \"ACGTGACGTTAGCGTACGTA\"  # <-- you can replace this with any sequence\n",
    "\n",
    "# Step 4: Build the transition counts\n",
    "for i in range(len(sequence) - 1):\n",
    "    current_nuc = sequence[i]\n",
    "    next_nuc = sequence[i + 1]\n",
    "    if current_nuc in nucleotides and next_nuc in nucleotides:\n",
    "        transition_matrix[current_nuc][next_nuc] += 1\n",
    "\n",
    "# Step 5: Normalize to get probabilities\n",
    "for nuc1 in nucleotides:\n",
    "    total = sum(transition_matrix[nuc1].values())\n",
    "    if total > 0:\n",
    "        for nuc2 in nucleotides:\n",
    "            transition_matrix[nuc1][nuc2] /= total\n",
    "\n",
    "# Step 6: Print the transition matrix\n",
    "print(\"Transition Matrix (Markov Model):\")\n",
    "for nuc1 in nucleotides:\n",
    "    for nuc2 in nucleotides:\n",
    "        print(f\"P({nuc2} | {nuc1}) = {transition_matrix[nuc1][nuc2]:.3f}\", end=\"\\t\")\n",
    "    print()\n"
   ]
  },
  {
   "cell_type": "code",
   "execution_count": null,
   "id": "1bba7c15-b3b6-4b72-9e78-63bb7c4b3ffc",
   "metadata": {},
   "outputs": [],
   "source": []
  }
 ],
 "metadata": {
  "kernelspec": {
   "display_name": "Python 3 (ipykernel)",
   "language": "python",
   "name": "python3"
  },
  "language_info": {
   "codemirror_mode": {
    "name": "ipython",
    "version": 3
   },
   "file_extension": ".py",
   "mimetype": "text/x-python",
   "name": "python",
   "nbconvert_exporter": "python",
   "pygments_lexer": "ipython3",
   "version": "3.12.7"
  }
 },
 "nbformat": 4,
 "nbformat_minor": 5
}
