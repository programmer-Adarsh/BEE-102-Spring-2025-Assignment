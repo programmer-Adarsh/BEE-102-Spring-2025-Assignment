{
 "cells": [
  {
   "cell_type": "code",
   "execution_count": 18,
   "id": "ae1abb23-9319-443d-8496-86aca05fbee0",
   "metadata": {},
   "outputs": [
    {
     "name": "stdout",
     "output_type": "stream",
     "text": [
      "Conversion successful! Output saved at: C:/Users/ADARSH VERMA/Downloads/multiline_output.fasta\n"
     ]
    }
   ],
   "source": [
    "def convert_fasta_to_single_line(input_file, output_file):\n",
    "    with open(input_file, 'r') as infile, open(output_file, 'w') as outfile:\n",
    "        sequence = \"\"\n",
    "        header = None\n",
    "        for line in infile:\n",
    "            line = line.strip()\n",
    "            if line.startswith(\">\"):\n",
    "                if header is not None:\n",
    "                    outfile.write(header + \"\\n\" + sequence + \"\\n\")\n",
    "                header = line\n",
    "                sequence = \"\"\n",
    "            else:\n",
    "                sequence += line\n",
    "        if header is not None:\n",
    "            outfile.write(header + \"\\n\" + sequence + \"\\n\")\n",
    "\n",
    "# Actual file paths\n",
    "input_path = r'C:/Users/ADARSH VERMA/Downloads/multiline_input.fasta'\n",
    "output_path = r'C:/Users/ADARSH VERMA/Downloads/multiline_output.fasta'\n",
    "\n",
    "# Calling the function\n",
    "convert_fasta_to_single_line(input_path, output_path)\n",
    "\n",
    "print(\"Conversion successful! Output saved at:\", output_path)\n"
   ]
  }
 ],
 "metadata": {
  "kernelspec": {
   "display_name": "Python 3 (ipykernel)",
   "language": "python",
   "name": "python3"
  },
  "language_info": {
   "codemirror_mode": {
    "name": "ipython",
    "version": 3
   },
   "file_extension": ".py",
   "mimetype": "text/x-python",
   "name": "python",
   "nbconvert_exporter": "python",
   "pygments_lexer": "ipython3",
   "version": "3.12.7"
  }
 },
 "nbformat": 4,
 "nbformat_minor": 5
}
